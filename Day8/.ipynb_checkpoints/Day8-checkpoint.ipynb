{
 "cells": [
  {
   "cell_type": "code",
   "execution_count": 14,
   "id": "contemporary-prediction",
   "metadata": {},
   "outputs": [
    {
     "name": "stdout",
     "output_type": "stream",
     "text": [
      "[['3', '0', '3', '7', '3'], ['2', '5', '5', '1', '2'], ['6', '5', '3', '3', '2'], ['3', '3', '5', '4', '9'], ['3', '5', '3', '9', '0']]\n",
      "[[1, 1, 1, 1, 1], [1, 1, 1, 0, 1], [1, 0, 0, 1, 1], [1, 0, 1, 0, 1], [1, 1, 1, 1, 1]]\n",
      "20\n"
     ]
    }
   ],
   "source": [
    "import sys\n",
    "import numpy as np\n",
    "from functools import lru_cache,wraps\n",
    "import collections\n",
    "sys.setrecursionlimit(15000) \n",
    "\n",
    "def read_file(file_name):\n",
    "    with open(file_name) as input_file:\n",
    "        list_of_lines=input_file.read().splitlines()\n",
    "    return [[*line] for line in list_of_lines]\n",
    "\n",
    "#Assuming, without reason, to always go right and down\n",
    "#Works only on the example -> failed\n",
    "@lru_cache(maxsize=20000)  \n",
    "def compute_size(dir):\n",
    "    Size[dir]=Files[dir]\n",
    "    for subdir in Subdir[dir]:\n",
    "        Size[dir] += compute_size(subdir)\n",
    "    return Size[dir]\n",
    "    \n",
    "if __name__ == '__main__':\n",
    "   \n",
    "    Forest = read_file('example')\n",
    "    Lx=len(Forest[0])\n",
    "    Ly=len(Forest)\n",
    "    print(Forest)\n",
    "    Visible=[[0 for i in range(Lx)] for j in range(Ly)]\n",
    "    #For each line\n",
    "    for i in range(Ly):\n",
    "        #Parse trees from left to right\n",
    "        PreviousTree=Forest[i][0]\n",
    "        Visible[i][0]=1\n",
    "        j=1\n",
    "        while(j<Lx):\n",
    "            if(Forest[i][j]>PreviousTree):\n",
    "                Visible[i][j]=1\n",
    "            PreviousTree=Forest[i][j]\n",
    "            j+=1\n",
    "        #Parse trees from right to left\n",
    "        PreviousTree=Forest[i][Lx-1]\n",
    "        Visible[i][Lx-1]=1\n",
    "        j=Lx-2\n",
    "        while(j>0):\n",
    "            if(Forest[i][j]>PreviousTree):\n",
    "                Visible[i][j]=1\n",
    "            PreviousTree=Forest[i][j]\n",
    "            j-=1\n",
    "\n",
    "    #For each column\n",
    "    for i in range(Lx):\n",
    "        #Parse trees from left to right\n",
    "        PreviousTree=Forest[0][i]\n",
    "        Visible[0][i]=1\n",
    "        j=1\n",
    "        while(j<Ly):\n",
    "            if(Forest[j][i]>PreviousTree):\n",
    "                Visible[j][i]=1\n",
    "            PreviousTree=Forest[j][i]\n",
    "            j+=1\n",
    "        #Parse trees from right to left\n",
    "        PreviousTree=Forest[Ly-1][i]\n",
    "        Visible[Ly-1][i]=1\n",
    "        j=Ly-2\n",
    "        while(j>0):\n",
    "            if(Forest[j][i]>PreviousTree):\n",
    "                Visible[j][i]=1\n",
    "            PreviousTree=Forest[j][i]\n",
    "            j-=1\n",
    "    print(Visible)\n",
    "    print(sum(x.count(1) for x in Visible))\n",
    "            \n",
    "            \n"
   ]
  },
  {
   "cell_type": "code",
   "execution_count": null,
   "id": "after-ethernet",
   "metadata": {},
   "outputs": [],
   "source": []
  },
  {
   "cell_type": "code",
   "execution_count": null,
   "id": "automatic-diary",
   "metadata": {},
   "outputs": [],
   "source": []
  }
 ],
 "metadata": {
  "kernelspec": {
   "display_name": "Python 3",
   "language": "python",
   "name": "python3"
  },
  "language_info": {
   "codemirror_mode": {
    "name": "ipython",
    "version": 3
   },
   "file_extension": ".py",
   "mimetype": "text/x-python",
   "name": "python",
   "nbconvert_exporter": "python",
   "pygments_lexer": "ipython3",
   "version": "3.9.2"
  }
 },
 "nbformat": 4,
 "nbformat_minor": 5
}
