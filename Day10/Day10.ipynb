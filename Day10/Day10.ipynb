{
 "cells": [
  {
   "cell_type": "code",
   "execution_count": 35,
   "id": "contemporary-prediction",
   "metadata": {},
   "outputs": [
    {
     "name": "stdout",
     "output_type": "stream",
     "text": [
      "12540\n",
      "####.####..##..####.####.#....#..#.####.\n",
      "#....#....#..#....#.#....#....#..#.#....\n",
      "###..###..#......#..###..#....####.###..\n",
      "#....#....#.....#...#....#....#..#.#....\n",
      "#....#....#..#.#....#....#....#..#.#....\n",
      "#....####..##..####.####.####.#..#.####.\n"
     ]
    }
   ],
   "source": [
    "import sys\n",
    "import numpy as np\n",
    "from functools import lru_cache,wraps\n",
    "import collections as col\n",
    "\n",
    "sys.setrecursionlimit(15000) \n",
    "\n",
    "def read_file(file_name):\n",
    "    with open(file_name) as input_file:\n",
    "        list_of_lines=input_file.read().splitlines()\n",
    "    moves=[line.split(' ') for line in list_of_lines]\n",
    "    for move in moves:\n",
    "        if ('add' in move[0]):\n",
    "            move[1]=int(move[1])\n",
    "    return moves\n",
    "    \n",
    "#Assuming, without reason, to always go right and down\n",
    "#Works only on the example -> failed\n",
    "@lru_cache(maxsize=20000)  \n",
    "def RecursiveFunction():\n",
    "    return 18\n",
    "\n",
    "def Update(T):\n",
    "    return (T-1)%40,int((T-1)/40)\n",
    "\n",
    "def Letter(X,xp):\n",
    "    if(X-1<=xp and xp<=X+1):\n",
    "        return '#'\n",
    "    else:\n",
    "        return '.'\n",
    "\n",
    "if __name__ == '__main__':\n",
    "   \n",
    "    Moves = read_file('example')\n",
    "    Moves = read_file('input')\n",
    "    #print(Moves)\n",
    "    X=1\n",
    "    T=0\n",
    "    Sum=0\n",
    "    CRT=['','','','','','']\n",
    "    for move in Moves:\n",
    "        if ('noop' in move[0]):\n",
    "            T+=1\n",
    "            xp,yp=Update(T)\n",
    "            CRT[yp]+= Letter(X,xp)\n",
    "            \n",
    "            if(T%40==20 and T<221):\n",
    "                Sum+= T*X\n",
    "            \n",
    "        elif('add' in move[0]):\n",
    "            T+=1\n",
    "            xp,yp=Update(T)\n",
    "            CRT[yp]+= Letter(X,xp)\n",
    "\n",
    "            if(T%40==20 and T<221):\n",
    "                Sum+= T*X\n",
    "            T+=1\n",
    "            xp,yp=Update(T)\n",
    "            CRT[yp]+= Letter(X,xp)\n",
    "            \n",
    "            if(T%40==20 and T<221):\n",
    "                Sum+= T*X\n",
    "            X+=move[1]\n",
    "    print(Sum)\n",
    "    for i in CRT:\n",
    "        print(i)"
   ]
  }
 ],
 "metadata": {
  "kernelspec": {
   "display_name": "Python 3",
   "language": "python",
   "name": "python3"
  },
  "language_info": {
   "codemirror_mode": {
    "name": "ipython",
    "version": 3
   },
   "file_extension": ".py",
   "mimetype": "text/x-python",
   "name": "python",
   "nbconvert_exporter": "python",
   "pygments_lexer": "ipython3",
   "version": "3.9.2"
  }
 },
 "nbformat": 4,
 "nbformat_minor": 5
}
