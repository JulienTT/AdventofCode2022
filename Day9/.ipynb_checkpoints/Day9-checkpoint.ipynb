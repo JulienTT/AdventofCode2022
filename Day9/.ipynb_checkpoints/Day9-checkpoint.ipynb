{
 "cells": [
  {
   "cell_type": "code",
   "execution_count": 1,
   "id": "contemporary-prediction",
   "metadata": {},
   "outputs": [
    {
     "name": "stdout",
     "output_type": "stream",
     "text": [
      "6464\n",
      "2604\n"
     ]
    }
   ],
   "source": [
    "import sys\n",
    "import numpy as np\n",
    "from functools import lru_cache,wraps\n",
    "import collections as col\n",
    "\n",
    "sys.setrecursionlimit(15000) \n",
    "\n",
    "def read_file(file_name):\n",
    "    with open(file_name) as input_file:\n",
    "        list_of_lines=input_file.read().splitlines()\n",
    "    moves=[line.split(' ') for line in list_of_lines]\n",
    "    for move in moves:\n",
    "        move[1]=int(move[1])\n",
    "    return moves\n",
    "    \n",
    "@lru_cache(maxsize=20000)  \n",
    "def compute_size(dir):\n",
    "    Size[dir]=Files[dir]\n",
    "    for subdir in Subdir[dir]:\n",
    "        Size[dir] += compute_size(subdir)\n",
    "    return Size[dir]\n",
    "\n",
    "if __name__ == '__main__':\n",
    "   \n",
    "    Moves = read_file('example')\n",
    "    Moves = read_file('input')\n",
    "    Visited=set([])\n",
    "    T=np.array([0,0])\n",
    "    H=np.array([0,0])\n",
    "    for move in Moves:\n",
    "        for i in range(move[1]):\n",
    "            if (move[0]=='R'):\n",
    "                H[0]+=1\n",
    "            elif(move[0]=='L'):\n",
    "                H[0]-=1\n",
    "            elif(move[0]=='U'):\n",
    "                H[1]+=1\n",
    "            elif(move[0]=='D'):\n",
    "                H[1]-=1\n",
    "            if(np.linalg.norm(T-H)>=2):\n",
    "                if(H[0]!=T[0]):\n",
    "                    T[0]+=(H[0]-T[0])/abs(T[0]-H[0])\n",
    "                if(H[1]!=T[1]):\n",
    "                    T[1]+=(H[1]-T[1])/abs(T[1]-H[1])    \n",
    "            Visited.add((T[0],T[1]))\n",
    "    print(len(Visited))\n",
    "    \n",
    "    Moves = read_file('example2')\n",
    "    Moves = read_file('input')\n",
    "\n",
    "    Visited=set([])\n",
    "    Rope=[]\n",
    "    for i in range(1,11):\n",
    "        Rope.append(np.array([0,0]))\n",
    "    for move in Moves:\n",
    "        for i in range(move[1]):\n",
    "            if (move[0]=='R'):\n",
    "                Rope[0][0]+=1\n",
    "            elif(move[0]=='L'):\n",
    "                Rope[0][0]-=1\n",
    "            elif(move[0]=='U'):\n",
    "                Rope[0][1]+=1\n",
    "            elif(move[0]=='D'):\n",
    "                Rope[0][1]-=1\n",
    "            for i in range(1,10):\n",
    "                if(np.linalg.norm(Rope[i]-Rope[i-1])>=2):\n",
    "                    if(Rope[i][0]!=Rope[i-1][0]):\n",
    "                        Rope[i][0]+=(Rope[i-1][0]-Rope[i][0])/abs(Rope[i][0]-Rope[i-1][0])\n",
    "                    if(Rope[i][1]!=Rope[i-1][1]):\n",
    "                        Rope[i][1]+=(Rope[i-1][1]-Rope[i][1])/abs(Rope[i][1]-Rope[i-1][1])\n",
    "            Visited.add((Rope[9][0],Rope[9][1]))\n",
    "    print(len(Visited))\n",
    "            "
   ]
  }
 ],
 "metadata": {
  "kernelspec": {
   "display_name": "Python 3",
   "language": "python",
   "name": "python3"
  },
  "language_info": {
   "codemirror_mode": {
    "name": "ipython",
    "version": 3
   },
   "file_extension": ".py",
   "mimetype": "text/x-python",
   "name": "python",
   "nbconvert_exporter": "python",
   "pygments_lexer": "ipython3",
   "version": "3.9.2"
  }
 },
 "nbformat": 4,
 "nbformat_minor": 5
}
