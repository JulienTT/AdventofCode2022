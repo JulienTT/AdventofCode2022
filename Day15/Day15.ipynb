{
 "cells": [
  {
   "cell_type": "code",
   "execution_count": 20,
   "id": "sudden-google",
   "metadata": {},
   "outputs": [
    {
     "name": "stdout",
     "output_type": "stream",
     "text": [
      "[[2332081, 2640840, 2094728, 2887414], [3048293, 3598671, 3872908, 3598272], [2574256, 3973583, 2520711, 4005929], [3011471, 2514567, 2999559, 2558817], [3718881, 2593817, 2999559, 2558817], [2388052, 2201955, 2163809, 1961540], [3783125, 3897169, 3872908, 3598272], [1864613, 3918152, 2520711, 4005929], [2850099, 689863, 3231146, 2000000], [3431652, 2328669, 3231146, 2000000], [3480248, 3999492, 3872908, 3598272], [455409, 3347614, -399822, 4026621], [2451938, 2950107, 2094728, 2887414], [1917790, 3194437, 2094728, 2887414], [3947393, 3625984, 3872908, 3598272], [1615064, 2655330, 2094728, 2887414], [3630338, 1977851, 3231146, 2000000], [3878266, 3019867, 3872908, 3598272], [2837803, 2395749, 2999559, 2558817], [3979396, 3697962, 3872908, 3598272], [109399, 250528, 929496, -688981], [2401381, 3518884, 2520711, 4005929], [3962391, 71053, 5368730, -488735], [1751119, 97658, 929496, -688981], [2932155, 2967347, 2999559, 2558817], [3326630, 2845463, 2999559, 2558817], [3959042, 1734156, 3231146, 2000000], [675279, 1463916, 2163809, 1961540], [3989603, 3500749, 3872908, 3598272], [1963470, 2288355, 2163809, 1961540]]\n",
      "{(3231146, 4029530), (1724671, 2202269), (268785, 642033), (1558646, 1671482), (3925211, 3999571), (2469052, 3231146), (3231146, 3632158), (2125349, 2650755), (99265, 119533), (3558376, 3879386), (-774791, 2125349), (3231146, 4686938)}\n",
      "3231146 4029530\n",
      "-774791 4686938\n",
      "5461729.0\n",
      "--- 1.77207350730896 seconds ---\n"
     ]
    }
   ],
   "source": [
    "# FOR PART I ONLY\n",
    "import sys\n",
    "import numpy as np\n",
    "from functools import lru_cache,wraps\n",
    "import collections as col\n",
    "import string as st\n",
    "import re\n",
    "import time\n",
    "\n",
    "\n",
    "def Read_file(file_name):\n",
    "    Beacons=[]\n",
    "    with open(file_name) as input_file:\n",
    "        list_of_lines=input_file.read().splitlines()\n",
    "    for line in list_of_lines:\n",
    "        line=line.replace('Sensor at x=','')\n",
    "        line=line.replace(' y=','')\n",
    "        line=line.replace(': closest beacon is at x=',',')\n",
    "        line=line.replace(' ','')\n",
    "        Beacons.append([int(i) for i in line.split(',')])\n",
    "    return Beacons\n",
    "        \n",
    "if __name__ == '__main__':\n",
    "\n",
    "#     Beacons=Read_file('example')\n",
    "    Beacons=Read_file('input')\n",
    "    print(Beacons)\n",
    "    yt=2000000\n",
    "#     yt=10\n",
    "    Xmin=0\n",
    "    Xmax=20\n",
    "    Ymin=0\n",
    "    Ymax=20\n",
    "    start_time = time.time()\n",
    "    Nothing=set()\n",
    "    for Beacon in Beacons:\n",
    "        #print(Beacon)\n",
    "        d=abs(Beacon[0]-Beacon[2])+abs(Beacon[1]-Beacon[3])\n",
    "        #print('distance',d)\n",
    "        d1=d-abs(Beacon[1]-yt)\n",
    "        if (d1>=0):\n",
    "            Nothing.add((Beacon[0]-d1,Beacon[0]+d1))   \n",
    "    print(Nothing)\n",
    "    (xmin,xmax)=list(Nothing)[0]\n",
    "    print(xmin,xmax)\n",
    "    for Inter in Nothing:\n",
    "        (x1,x2)=Inter\n",
    "        xmin=min(x1,xmin)\n",
    "        xmax=max(x2,xmax)\n",
    "    print(xmin,xmax)\n",
    "    X=np.zeros(xmax-xmin+1)\n",
    "    for Inter in Nothing:\n",
    "        for x in range(Inter[0],Inter[1]+1):\n",
    "            X[x-xmin]=1;\n",
    "    for Beacon in Beacons:\n",
    "        if (Beacon[3]==yt):\n",
    "            X[Beacon[2]-xmin]=0\n",
    "    print(sum(X))\n",
    "    print(\"--- %s seconds ---\" % (time.time() - start_time))\n",
    "    sys.setrecursionlimit(15000) \n",
    "\n",
    "    "
   ]
  },
  {
   "cell_type": "code",
   "execution_count": 1,
   "id": "happy-manner",
   "metadata": {},
   "outputs": [
    {
     "name": "stdout",
     "output_type": "stream",
     "text": [
      "3166538 2655411 [[0, 2655410], [2655412, 4000000]]\n",
      "--- 52.22801899909973 seconds ---\n"
     ]
    }
   ],
   "source": [
    "#FOR PART II\n",
    "import sys\n",
    "import numpy as np\n",
    "from functools import lru_cache,wraps\n",
    "import collections as col\n",
    "import string as st\n",
    "import re\n",
    "import time\n",
    "\n",
    "\n",
    "def Read_file(file_name):\n",
    "    Beacons=[]\n",
    "    with open(file_name) as input_file:\n",
    "        list_of_lines=input_file.read().splitlines()\n",
    "    for line in list_of_lines:\n",
    "        line=line.replace('Sensor at x=','')\n",
    "        line=line.replace(' y=','')\n",
    "        line=line.replace(': closest beacon is at x=',',')\n",
    "        line=line.replace(' ','')\n",
    "        Beacons.append([int(i) for i in line.split(',')])\n",
    "    return Beacons\n",
    "        \n",
    "def Remove(i1,i2,j1,j2):\n",
    "    return 1;\n",
    "    \n",
    "    \n",
    "if __name__ == '__main__':\n",
    "\n",
    "#     Beacons=Read_file('example')\n",
    "    Beacons=Read_file('input')\n",
    "    #print(Beacons)\n",
    "    yt=2000000\n",
    "    NotFound=True\n",
    "    Xmin=0\n",
    "    Xmax=4000000\n",
    "    Ymin=0\n",
    "    Ymax=4000000\n",
    "    yt=Ymin\n",
    "    start_time = time.time()\n",
    "    while(NotFound and yt<Ymax):\n",
    "        Nothing=[]\n",
    "        for Beacon in Beacons:\n",
    "            d=abs(Beacon[0]-Beacon[2])+abs(Beacon[1]-Beacon[3])\n",
    "            #print('distance',d)\n",
    "            d1=d-abs(Beacon[1]-yt)\n",
    "            if (d1>=0):\n",
    "                Nothing.append([Beacon[0]-d1,Beacon[0]+d1])   \n",
    "#         print(sorted(Nothing))\n",
    "        Union=[]\n",
    "        for begin,end in sorted(Nothing):\n",
    "            if Union and Union[-1][1] >= begin - 1:\n",
    "                Union[-1][1] = max(Union[-1][1], end)\n",
    "            else:\n",
    "                Union.append([begin, end])\n",
    "\n",
    "        #Compute length\n",
    "        for i in range(0,len(Union)):\n",
    "            Union[i][0]=max(Union[i][0],0)\n",
    "            Union[i][1]=min(Union[i][1],Xmax)\n",
    "        Length=0\n",
    "        for begin,end in Union:\n",
    "            Length+=end-begin+1\n",
    "        if(Length!=Xmax+1):\n",
    "            print(yt,Union[0][1]+1,Union)\n",
    "            NotFound=False\n",
    "        yt+=1\n",
    "#         print(yt)\n",
    "\n",
    "    print(\"--- %s seconds ---\" % (time.time() - start_time))\n",
    "    sys.setrecursionlimit(15000) \n",
    "\n",
    "    "
   ]
  },
  {
   "cell_type": "code",
   "execution_count": 3,
   "id": "aquatic-april",
   "metadata": {},
   "outputs": [
    {
     "name": "stdout",
     "output_type": "stream",
     "text": [
      "10621647166538\n"
     ]
    }
   ],
   "source": [
    "print(4000000*2655411+3166538)"
   ]
  },
  {
   "cell_type": "code",
   "execution_count": null,
   "id": "smooth-angle",
   "metadata": {},
   "outputs": [],
   "source": []
  }
 ],
 "metadata": {
  "kernelspec": {
   "display_name": "Python 3",
   "language": "python",
   "name": "python3"
  },
  "language_info": {
   "codemirror_mode": {
    "name": "ipython",
    "version": 3
   },
   "file_extension": ".py",
   "mimetype": "text/x-python",
   "name": "python",
   "nbconvert_exporter": "python",
   "pygments_lexer": "ipython3",
   "version": "3.9.2"
  }
 },
 "nbformat": 4,
 "nbformat_minor": 5
}
