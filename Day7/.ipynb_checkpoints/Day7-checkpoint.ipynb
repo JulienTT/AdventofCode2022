{
 "cells": [
  {
   "cell_type": "code",
   "execution_count": 43,
   "id": "contemporary-prediction",
   "metadata": {},
   "outputs": [
    {
     "name": "stdout",
     "output_type": "stream",
     "text": [
      "3645\n"
     ]
    }
   ],
   "source": [
    "import sys\n",
    "import numpy as np\n",
    "from functools import lru_cache,wraps\n",
    "import collections\n",
    "\n",
    "def read_file(file_name):\n",
    "    with open(file_name) as input_file:\n",
    "        list_of_lines=input_file.read().splitlines()\n",
    "    \n",
    "    Ly=len(list_of_lines)\n",
    "    Lx=len(list_of_lines[0])\n",
    "    Cave=np.zeros((Ly,Lx),np.int64)\n",
    "    for y,line in enumerate(list_of_lines):\n",
    "        for x,i in enumerate(line):\n",
    "            Cave[y][x]=int(i)\n",
    "    return Lx,Ly,Cave\n",
    "\n",
    "#Assuming, without reason, to always go right and down\n",
    "#Works only on the example -> failed\n",
    "@lru_cache(maxsize=1000)  \n",
    "def small_dist_dumb(Cave,i,j,Lx,Ly):\n",
    "\n",
    "#reading file and storing in a list\n",
    "def read_file(file_name):\n",
    "    with open(file_name) as input_file:\n",
    "        list_of_lines=input_file.read().splitlines()\n",
    "    packet=[list(line) for line in list_of_lines if len(line)>1][0]\n",
    "   \n",
    "    return packet\n",
    "\n",
    "#Stupid bruteforce. Will probably pay the price in part 2\n",
    "def IsStart(List,N):\n",
    "        return List[N]!=List[N+1] and List[N]!=List[N+2] and List[N]!=List[N+3] and List[N+1]!=List[N+2] and List[N+1]!=List[N+3]  and List[N+2]!=List[N+3]\n",
    "\n",
    "#A letter differs from the following Length letters if Length==0 or \n",
    "# if it differs from the last letter and the first Length-1 letters\n",
    "def IsDifferent(List,N,Length):\n",
    "    if (Length==0):\n",
    "        return True\n",
    "    elif (List[N]==List[N+Length]):\n",
    "        return False\n",
    "    else:\n",
    "        return IsDifferent(List,N,Length-1)\n",
    "\n",
    "#test if a message start at N\n",
    "def IsMessage(List,N,Length):\n",
    "        #If N is zero, there is no redundance in the following packet of N letters\n",
    "        if(Length==0):\n",
    "            return True\n",
    "        #Other test if the first letter is different from the N following \n",
    "        elif(IsDifferent(List,N,Length)):\n",
    "            #if so, test if the next Length-1 letters form a message of Length-1 letters\n",
    "            return IsMessage(List,N+1,Length-1)\n",
    "        else:\n",
    "            return False\n",
    "    \n",
    "if __name__ == '__main__':\n",
    "   \n",
    "    packet = read_file('input')\n",
    "    n=0\n",
    "    while (not IsMessage(packet,n,13)):\n",
    "        n+=1\n",
    "    print(n+14)\n"
   ]
  },
  {
   "cell_type": "code",
   "execution_count": null,
   "id": "after-ethernet",
   "metadata": {},
   "outputs": [],
   "source": []
  }
 ],
 "metadata": {
  "kernelspec": {
   "display_name": "Python 3",
   "language": "python",
   "name": "python3"
  },
  "language_info": {
   "codemirror_mode": {
    "name": "ipython",
    "version": 3
   },
   "file_extension": ".py",
   "mimetype": "text/x-python",
   "name": "python",
   "nbconvert_exporter": "python",
   "pygments_lexer": "ipython3",
   "version": "3.9.2"
  }
 },
 "nbformat": 4,
 "nbformat_minor": 5
}
