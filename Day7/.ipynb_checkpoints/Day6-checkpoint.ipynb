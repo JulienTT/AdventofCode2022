{
 "cells": [
  {
   "cell_type": "code",
   "execution_count": 21,
   "id": "contemporary-prediction",
   "metadata": {},
   "outputs": [
    {
     "name": "stdout",
     "output_type": "stream",
     "text": [
      "['q', 'm', 'g', 'b', 'l', 'j', 's', 'p', 'h', 'd', 'z', 't', 'n', 'v']\n",
      "False\n",
      "19\n"
     ]
    }
   ],
   "source": [
    "import sys\n",
    "import numpy as np\n",
    "def read_file(file_name):\n",
    "    with open(file_name) as input_file:\n",
    "        list_of_lines=input_file.read().splitlines()\n",
    "    packet=[list(line) for line in list_of_lines if len(line)>1][0]\n",
    "   \n",
    "    return packet\n",
    "\n",
    "\n",
    "def IsStart(List,N):\n",
    "        return List[N]!=List[N+1] and List[N]!=List[N+2] and List[N]!=List[N+3] and List[N+1]!=List[N+2] and List[N+1]!=List[N+3]  and List[N+2]!=List[N+3]\n",
    "\n",
    "def IsDifferent(List,N,Length):\n",
    "    if (N==0):\n",
    "        return True\n",
    "    elif (List[N]==List[N+Length]):\n",
    "        return False\n",
    "    else:\n",
    "        return IsDifferent(List,N,Length-1)\n",
    "    \n",
    "def IsMessage(List,N,Length):\n",
    "        if(IsDifferent(List,N,Length)):\n",
    "            return IsMessage(List,N+1,Length-1)\n",
    "        else:\n",
    "            print(N+1,Length-1)\n",
    "            return False\n",
    "\n",
    "    \n",
    "if __name__ == '__main__':\n",
    "   \n",
    "    packet = read_file('example')\n",
    "    n=0\n",
    "    n=5\n",
    "    print(packet[n:n+14])\n",
    "    print(IsMessage(packet,5,14))\n",
    "#    while (not IsMessage(packet,n,14)):\n",
    "#        print(n,n+14,packet[n:n+14])\n",
    "#        n+=1\n",
    "    \n",
    "    print(n+14)\n"
   ]
  },
  {
   "cell_type": "code",
   "execution_count": null,
   "id": "material-submission",
   "metadata": {},
   "outputs": [],
   "source": []
  }
 ],
 "metadata": {
  "kernelspec": {
   "display_name": "Python 3",
   "language": "python",
   "name": "python3"
  },
  "language_info": {
   "codemirror_mode": {
    "name": "ipython",
    "version": 3
   },
   "file_extension": ".py",
   "mimetype": "text/x-python",
   "name": "python",
   "nbconvert_exporter": "python",
   "pygments_lexer": "ipython3",
   "version": "3.9.2"
  }
 },
 "nbformat": 4,
 "nbformat_minor": 5
}
