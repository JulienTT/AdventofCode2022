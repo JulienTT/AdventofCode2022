{
 "cells": [
  {
   "cell_type": "code",
   "execution_count": 2,
   "id": "changed-copying",
   "metadata": {},
   "outputs": [
    {
     "name": "stdout",
     "output_type": "stream",
     "text": [
      "length 5000\n",
      "length Positions 5000\n",
      "position 1000 2248913542963\n",
      "position 2000 -146086047540\n",
      "position 3000 2162885092745\n",
      "sum: 4265712588168\n"
     ]
    }
   ],
   "source": [
    "#FOR PART I\n",
    "import sys\n",
    "import numpy as np\n",
    "from functools import lru_cache,wraps\n",
    "import collections as col\n",
    "import string as st\n",
    "import re\n",
    "import time\n",
    "import copy \n",
    "\n",
    "sys.setrecursionlimit(15000) \n",
    "\n",
    "def Read_file(file_name):\n",
    "    with open(file_name) as input_file:\n",
    "        list_of_lines=input_file.read().splitlines()\n",
    "    Monkeys={}\n",
    "    for line in list_of_lines:\n",
    "        name=line.split(':')[0]\n",
    "    return Monkeys\n",
    "\n",
    "    \n",
    "if __name__ == '__main__':\n",
    "    \n",
    "    Keys,Positions=Read_file('input')\n",
    "#     Keys,Positions=Read_file('example')\n",
    "\n",
    "    #     Key=Read_file('input')\n",
    "    L=len(Keys)\n",
    "    print('length',L)\n",
    "#     print(Positions)\n",
    "#     print(Keys)\n",
    "#     print(Positions)\n",
    "\n",
    "#     for key in Keys:\n",
    "#         if Keys[Positions[key]]!=key:\n",
    "#             print('bug')\n",
    "#     print('length Positions',len(Positions))\n",
    "    for k in range(10):\n",
    "        for i in range(L):\n",
    "            [oldpos,key,barekey]=Positions[i]\n",
    "            newpos=(oldpos+key)%(L-1)\n",
    "    #         print(oldpos,newpos,key)\n",
    "\n",
    "    #         print(key,oldpos,newpos)\n",
    "            if (newpos<oldpos):\n",
    "                for pos in Positions.values():\n",
    "    #                 print(pos)\n",
    "                    if (newpos<=pos[0] and pos[0]<oldpos):\n",
    "                        pos[0] += 1\n",
    "            if (newpos>oldpos):\n",
    "                for pos in Positions.values():\n",
    "    #                 print(pos)\n",
    "                    if (newpos>=pos[0] and pos[0]>oldpos):\n",
    "                        pos[0] -= 1\n",
    "            Positions[i][0]=newpos\n",
    "#         Positions[0]\n",
    "    Sum=0\n",
    "    for pos in Positions.values():\n",
    "        if pos[2]==0:\n",
    "            poszero=pos[0]\n",
    "    print('length Positions',len(Positions))\n",
    "    for shift in [1000, 2000, 3000]:\n",
    "        real_pos=(poszero+shift)%L\n",
    "        for pos in Positions.values():\n",
    "            if pos[0]==real_pos:\n",
    "                print('position {0}'.format(shift),pos[2])\n",
    "                Sum+=pos[2]\n",
    "                \n",
    "    print('sum:',Sum)\n",
    "#     print(dict(sorted(Positions.items(), key=lambda item: item[1])))\n",
    "#     print('length Positions',len(Positions))\n"
   ]
  },
  {
   "cell_type": "code",
   "execution_count": null,
   "id": "elementary-beach",
   "metadata": {},
   "outputs": [],
   "source": []
  }
 ],
 "metadata": {
  "kernelspec": {
   "display_name": "Python 3",
   "language": "python",
   "name": "python3"
  },
  "language_info": {
   "codemirror_mode": {
    "name": "ipython",
    "version": 3
   },
   "file_extension": ".py",
   "mimetype": "text/x-python",
   "name": "python",
   "nbconvert_exporter": "python",
   "pygments_lexer": "ipython3",
   "version": "3.9.2"
  }
 },
 "nbformat": 4,
 "nbformat_minor": 5
}
