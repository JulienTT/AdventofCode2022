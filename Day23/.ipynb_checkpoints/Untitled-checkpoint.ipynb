{
 "cells": [
  {
   "cell_type": "code",
   "execution_count": 2,
   "id": "focused-tomato",
   "metadata": {},
   "outputs": [
    {
     "name": "stdout",
     "output_type": "stream",
     "text": [
      "{(4, 0), (4, 3), (3, 1), (5, 1), (1, 6), (1, 3), (4, 2), (5, 0), (5, 6), (3, 6), (5, 3), (2, 4), (1, 2), (0, 4), (6, 1), (6, 4), (3, 5), (4, 4), (5, 5), (2, 0), (1, 4), (2, 6)}\n"
     ]
    }
   ],
   "source": [
    "#FOR PART I\n",
    "import sys\n",
    "import numpy as np\n",
    "from functools import lru_cache,wraps\n",
    "import collections as col\n",
    "import string as st\n",
    "import re\n",
    "import time\n",
    "import copy \n",
    "\n",
    "sys.setrecursionlimit(15000) \n",
    "\n",
    "def Read_file(file_name):\n",
    "    with open(file_name) as input_file:\n",
    "        list_of_lines=input_file.read().splitlines()\n",
    "    Elves=[]\n",
    "    for j in range(len(list_of_lines)):\n",
    "        line=list_of_lines[j]\n",
    "        for i in range(len(line)):\n",
    "            if list(line)[i]=='#':\n",
    "                Elves.append((j,i))\n",
    "    return set(Elves)\n",
    "\n",
    "if __name__ == '__main__':  \n",
    "    \n",
    "    Elves=Read_file('example')\n",
    "    Instructions=['N','S','W','E']\n",
    "    for \n",
    "    #     Elves=Read_file('input')\n",
    "    print(Elves)\n"
   ]
  },
  {
   "cell_type": "code",
   "execution_count": null,
   "id": "boring-prototype",
   "metadata": {},
   "outputs": [],
   "source": []
  }
 ],
 "metadata": {
  "kernelspec": {
   "display_name": "Python 3",
   "language": "python",
   "name": "python3"
  },
  "language_info": {
   "codemirror_mode": {
    "name": "ipython",
    "version": 3
   },
   "file_extension": ".py",
   "mimetype": "text/x-python",
   "name": "python",
   "nbconvert_exporter": "python",
   "pygments_lexer": "ipython3",
   "version": "3.9.2"
  }
 },
 "nbformat": 4,
 "nbformat_minor": 5
}
